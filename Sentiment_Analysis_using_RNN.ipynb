{
  "metadata": {
    "kernelspec": {
      "language": "python",
      "display_name": "Python 3",
      "name": "python3"
    },
    "language_info": {
      "name": "python",
      "version": "3.10.12",
      "mimetype": "text/x-python",
      "codemirror_mode": {
        "name": "ipython",
        "version": 3
      },
      "pygments_lexer": "ipython3",
      "nbconvert_exporter": "python",
      "file_extension": ".py"
    },
    "kaggle": {
      "accelerator": "none",
      "dataSources": [
        {
          "sourceId": 1808590,
          "sourceType": "datasetVersion",
          "datasetId": 989445
        }
      ],
      "dockerImageVersionId": 30626,
      "isInternetEnabled": true,
      "language": "python",
      "sourceType": "notebook",
      "isGpuEnabled": false
    },
    "colab": {
      "name": "Sentiment Analysis using RNN",
      "provenance": []
    }
  },
  "nbformat_minor": 0,
  "nbformat": 4,
  "cells": [
    {
      "source": [
        "\n",
        "import os\n",
        "import sys\n",
        "from tempfile import NamedTemporaryFile\n",
        "from urllib.request import urlopen\n",
        "from urllib.parse import unquote, urlparse\n",
        "from urllib.error import HTTPError\n",
        "from zipfile import ZipFile\n",
        "import tarfile\n",
        "import shutil\n",
        "\n",
        "CHUNK_SIZE = 40960\n",
        "DATA_SOURCE_MAPPING = 'sentiment-analysis-dataset:https%3A%2F%2Fstorage.googleapis.com%2Fkaggle-data-sets%2F989445%2F1808590%2Fbundle%2Farchive.zip%3FX-Goog-Algorithm%3DGOOG4-RSA-SHA256%26X-Goog-Credential%3Dgcp-kaggle-com%2540kaggle-161607.iam.gserviceaccount.com%252F20240330%252Fauto%252Fstorage%252Fgoog4_request%26X-Goog-Date%3D20240330T152209Z%26X-Goog-Expires%3D259200%26X-Goog-SignedHeaders%3Dhost%26X-Goog-Signature%3D2f15d48df0c62c0efec9fc9805d7d8cb6fa54ca2c1180966006e12c11ab9a1ab4cf1969554e8fe90fde7e866c319301c7cd184d55569381f5f9ee98a9f16b104beed09145cad93948b68e640a7ada6bf8a17094919d69b5171d68f84886c1ca91810cf7a4faa9765ec91aa19ecfed44bfe026c04db795bda31d4ede2433cede9a31519e81675a8e19f5f9db6fb14546defc88dc9fc81fbf011053ef2308bc6723253d57d51bafe583440525ef2f8aa0e078042022b85298579358197d971ef4f6ce23770611aff0fdb125e07fbf0cfb7c024fad07a3035670841298ecf9946db05c0d3f812432e316a944f5669f38f174dec053a3ad3d7b27dc7946b8699e029'\n",
        "\n",
        "KAGGLE_INPUT_PATH='/kaggle/input'\n",
        "KAGGLE_WORKING_PATH='/kaggle/working'\n",
        "KAGGLE_SYMLINK='kaggle'\n",
        "\n",
        "!umount /kaggle/input/ 2> /dev/null\n",
        "shutil.rmtree('/kaggle/input', ignore_errors=True)\n",
        "os.makedirs(KAGGLE_INPUT_PATH, 0o777, exist_ok=True)\n",
        "os.makedirs(KAGGLE_WORKING_PATH, 0o777, exist_ok=True)\n",
        "\n",
        "try:\n",
        "  os.symlink(KAGGLE_INPUT_PATH, os.path.join(\"..\", 'input'), target_is_directory=True)\n",
        "except FileExistsError:\n",
        "  pass\n",
        "try:\n",
        "  os.symlink(KAGGLE_WORKING_PATH, os.path.join(\"..\", 'working'), target_is_directory=True)\n",
        "except FileExistsError:\n",
        "  pass\n",
        "\n",
        "for data_source_mapping in DATA_SOURCE_MAPPING.split(','):\n",
        "    directory, download_url_encoded = data_source_mapping.split(':')\n",
        "    download_url = unquote(download_url_encoded)\n",
        "    filename = urlparse(download_url).path\n",
        "    destination_path = os.path.join(KAGGLE_INPUT_PATH, directory)\n",
        "    try:\n",
        "        with urlopen(download_url) as fileres, NamedTemporaryFile() as tfile:\n",
        "            total_length = fileres.headers['content-length']\n",
        "            print(f'Downloading {directory}, {total_length} bytes compressed')\n",
        "            dl = 0\n",
        "            data = fileres.read(CHUNK_SIZE)\n",
        "            while len(data) > 0:\n",
        "                dl += len(data)\n",
        "                tfile.write(data)\n",
        "                done = int(50 * dl / int(total_length))\n",
        "                sys.stdout.write(f\"\\r[{'=' * done}{' ' * (50-done)}] {dl} bytes downloaded\")\n",
        "                sys.stdout.flush()\n",
        "                data = fileres.read(CHUNK_SIZE)\n",
        "            if filename.endswith('.zip'):\n",
        "              with ZipFile(tfile) as zfile:\n",
        "                zfile.extractall(destination_path)\n",
        "            else:\n",
        "              with tarfile.open(tfile.name) as tarfile:\n",
        "                tarfile.extractall(destination_path)\n",
        "            print(f'\\nDownloaded and uncompressed: {directory}')\n",
        "    except HTTPError as e:\n",
        "        print(f'Failed to load (likely expired) {download_url} to path {destination_path}')\n",
        "        continue\n",
        "    except OSError as e:\n",
        "        print(f'Failed to load {download_url} to path {destination_path}')\n",
        "        continue\n",
        "\n",
        "print('Data source import complete.')\n"
      ],
      "metadata": {
        "id": "z1A9c0pm9ECu",
        "outputId": "88520129-88a7-4b22-e861-0e451021208b",
        "colab": {
          "base_uri": "https://localhost:8080/"
        }
      },
      "cell_type": "code",
      "outputs": [
        {
          "output_type": "stream",
          "name": "stdout",
          "text": [
            "Downloading sentiment-analysis-dataset, 57092644 bytes compressed\n",
            "[==================================================] 57092644 bytes downloaded\n",
            "Downloaded and uncompressed: sentiment-analysis-dataset\n",
            "Data source import complete.\n"
          ]
        }
      ],
      "execution_count": 2
    },
    {
      "cell_type": "code",
      "source": [
        "from keras.preprocessing.text import Tokenizer\n",
        "from keras.utils import pad_sequences\n",
        "from keras import Sequential\n",
        "from keras.utils import to_categorical\n",
        "from keras.layers import Dense,SimpleRNN,Embedding,Flatten"
      ],
      "metadata": {
        "_uuid": "8f2839f25d086af736a60e9eeb907d3b93b6e0e5",
        "_cell_guid": "b1076dfc-b9ad-4769-8c92-a6c4dae69d19",
        "execution": {
          "iopub.status.busy": "2023-12-14T10:21:26.597416Z",
          "iopub.execute_input": "2023-12-14T10:21:26.597843Z",
          "iopub.status.idle": "2023-12-14T10:21:26.603846Z",
          "shell.execute_reply.started": "2023-12-14T10:21:26.59781Z",
          "shell.execute_reply": "2023-12-14T10:21:26.602684Z"
        },
        "trusted": true,
        "id": "qwu2_Oim9EC1"
      },
      "execution_count": 3,
      "outputs": []
    },
    {
      "cell_type": "code",
      "source": [
        "import numpy as np\n",
        "import pandas as pd"
      ],
      "metadata": {
        "execution": {
          "iopub.status.busy": "2023-12-14T10:21:28.151275Z",
          "iopub.execute_input": "2023-12-14T10:21:28.15164Z",
          "iopub.status.idle": "2023-12-14T10:21:28.156278Z",
          "shell.execute_reply.started": "2023-12-14T10:21:28.151611Z",
          "shell.execute_reply": "2023-12-14T10:21:28.155202Z"
        },
        "trusted": true,
        "id": "CdqfEA6y9EC2"
      },
      "execution_count": 4,
      "outputs": []
    },
    {
      "cell_type": "code",
      "source": [
        "train_ds = pd.read_csv('/kaggle/input/sentiment-analysis-dataset/train.csv',encoding='latin1');\n",
        "validation_ds = pd.read_csv('/kaggle/input/sentiment-analysis-dataset/test.csv',encoding='latin1');"
      ],
      "metadata": {
        "execution": {
          "iopub.status.busy": "2023-12-14T10:21:29.251673Z",
          "iopub.execute_input": "2023-12-14T10:21:29.252525Z",
          "iopub.status.idle": "2023-12-14T10:21:29.384744Z",
          "shell.execute_reply.started": "2023-12-14T10:21:29.252482Z",
          "shell.execute_reply": "2023-12-14T10:21:29.383863Z"
        },
        "trusted": true,
        "id": "XRDaKf0t9EC3"
      },
      "execution_count": 5,
      "outputs": []
    },
    {
      "cell_type": "code",
      "source": [
        "train_ds = train_ds[['text','sentiment']]\n",
        "validation_ds = validation_ds[['text','sentiment']]"
      ],
      "metadata": {
        "execution": {
          "iopub.status.busy": "2023-12-14T10:21:30.650107Z",
          "iopub.execute_input": "2023-12-14T10:21:30.650498Z",
          "iopub.status.idle": "2023-12-14T10:21:30.661071Z",
          "shell.execute_reply.started": "2023-12-14T10:21:30.650468Z",
          "shell.execute_reply": "2023-12-14T10:21:30.659919Z"
        },
        "trusted": true,
        "id": "l8jWTHr69EC4"
      },
      "execution_count": 6,
      "outputs": []
    },
    {
      "cell_type": "code",
      "source": [
        "train_ds['text'].fillna('',inplace=True)\n",
        "validation_ds['text'].fillna('',inplace=True)"
      ],
      "metadata": {
        "execution": {
          "iopub.status.busy": "2023-12-14T10:21:32.202168Z",
          "iopub.execute_input": "2023-12-14T10:21:32.202615Z",
          "iopub.status.idle": "2023-12-14T10:21:32.213613Z",
          "shell.execute_reply.started": "2023-12-14T10:21:32.202578Z",
          "shell.execute_reply": "2023-12-14T10:21:32.212091Z"
        },
        "trusted": true,
        "id": "aWlQuNMs9EC4"
      },
      "execution_count": 7,
      "outputs": []
    },
    {
      "cell_type": "code",
      "source": [
        "def func(sentiment):\n",
        "    if sentiment =='positive':\n",
        "        return 0;\n",
        "    elif sentiment =='negative':\n",
        "        return 1;\n",
        "    else:\n",
        "        return 2;\n",
        "train_ds['sentiment'] = train_ds['sentiment'].apply(func)\n",
        "validation_ds['sentiment'] = validation_ds['sentiment'].apply(func)"
      ],
      "metadata": {
        "execution": {
          "iopub.status.busy": "2023-12-14T10:21:33.611648Z",
          "iopub.execute_input": "2023-12-14T10:21:33.61202Z",
          "iopub.status.idle": "2023-12-14T10:21:33.634495Z",
          "shell.execute_reply.started": "2023-12-14T10:21:33.61199Z",
          "shell.execute_reply": "2023-12-14T10:21:33.633441Z"
        },
        "trusted": true,
        "id": "p179pdgW9EC5"
      },
      "execution_count": 8,
      "outputs": []
    },
    {
      "cell_type": "code",
      "source": [
        "x_train = np.array(train_ds['text'].tolist())\n",
        "y_train = np.array(train_ds['sentiment'].tolist())\n",
        "x_test = np.array(validation_ds['text'].tolist())\n",
        "y_test = np.array(validation_ds['sentiment'].tolist())"
      ],
      "metadata": {
        "execution": {
          "iopub.status.busy": "2023-12-14T10:21:58.144685Z",
          "iopub.execute_input": "2023-12-14T10:21:58.145092Z",
          "iopub.status.idle": "2023-12-14T10:21:58.167905Z",
          "shell.execute_reply.started": "2023-12-14T10:21:58.145056Z",
          "shell.execute_reply": "2023-12-14T10:21:58.166874Z"
        },
        "trusted": true,
        "id": "ehBqIzop9EC5"
      },
      "execution_count": 9,
      "outputs": []
    },
    {
      "cell_type": "code",
      "source": [
        "x_train"
      ],
      "metadata": {
        "execution": {
          "iopub.status.busy": "2023-12-14T10:21:59.941802Z",
          "iopub.execute_input": "2023-12-14T10:21:59.942687Z",
          "iopub.status.idle": "2023-12-14T10:21:59.951078Z",
          "shell.execute_reply.started": "2023-12-14T10:21:59.942638Z",
          "shell.execute_reply": "2023-12-14T10:21:59.949362Z"
        },
        "trusted": true,
        "id": "LVFsLOO49EC6",
        "outputId": "9ff5fd10-d129-4b6c-8c5c-fb1952746aae",
        "colab": {
          "base_uri": "https://localhost:8080/"
        }
      },
      "execution_count": 10,
      "outputs": [
        {
          "output_type": "execute_result",
          "data": {
            "text/plain": [
              "array([' I`d have responded, if I were going',\n",
              "       ' Sooo SAD I will miss you here in San Diego!!!',\n",
              "       'my boss is bullying me...', ...,\n",
              "       ' Yay good for both of you. Enjoy the break - you probably need it after such hectic weekend  Take care hun xxxx',\n",
              "       ' But it was worth it  ****.',\n",
              "       '   All this flirting going on - The ATG smiles. Yay.  ((hugs))'],\n",
              "      dtype='<U159')"
            ]
          },
          "metadata": {},
          "execution_count": 10
        }
      ]
    },
    {
      "cell_type": "code",
      "source": [
        "y_train"
      ],
      "metadata": {
        "execution": {
          "iopub.status.busy": "2023-12-14T10:22:38.592026Z",
          "iopub.execute_input": "2023-12-14T10:22:38.592436Z",
          "iopub.status.idle": "2023-12-14T10:22:38.599757Z",
          "shell.execute_reply.started": "2023-12-14T10:22:38.592401Z",
          "shell.execute_reply": "2023-12-14T10:22:38.598566Z"
        },
        "trusted": true,
        "id": "lJ_6KOnu9EC6",
        "outputId": "9a808641-754c-41a2-8cd9-40032f79dfc7",
        "colab": {
          "base_uri": "https://localhost:8080/"
        }
      },
      "execution_count": 11,
      "outputs": [
        {
          "output_type": "execute_result",
          "data": {
            "text/plain": [
              "array([2, 1, 1, ..., 0, 0, 2])"
            ]
          },
          "metadata": {},
          "execution_count": 11
        }
      ]
    },
    {
      "cell_type": "code",
      "source": [
        "y_train = to_categorical(y_train, 3)\n",
        "y_test = to_categorical(y_test, 3)"
      ],
      "metadata": {
        "execution": {
          "iopub.status.busy": "2023-12-14T10:22:53.265534Z",
          "iopub.execute_input": "2023-12-14T10:22:53.265957Z",
          "iopub.status.idle": "2023-12-14T10:22:53.271867Z",
          "shell.execute_reply.started": "2023-12-14T10:22:53.265915Z",
          "shell.execute_reply": "2023-12-14T10:22:53.270767Z"
        },
        "trusted": true,
        "id": "Z2zwDkrf9EC7"
      },
      "execution_count": 12,
      "outputs": []
    },
    {
      "cell_type": "code",
      "source": [
        "y_train"
      ],
      "metadata": {
        "execution": {
          "iopub.status.busy": "2023-12-14T10:23:01.6022Z",
          "iopub.execute_input": "2023-12-14T10:23:01.602646Z",
          "iopub.status.idle": "2023-12-14T10:23:01.610446Z",
          "shell.execute_reply.started": "2023-12-14T10:23:01.602611Z",
          "shell.execute_reply": "2023-12-14T10:23:01.609127Z"
        },
        "trusted": true,
        "id": "HX0iWZkb9EC7",
        "outputId": "2a7552b1-ed8a-4d11-94b4-1dc858668067",
        "colab": {
          "base_uri": "https://localhost:8080/"
        }
      },
      "execution_count": 13,
      "outputs": [
        {
          "output_type": "execute_result",
          "data": {
            "text/plain": [
              "array([[0., 0., 1.],\n",
              "       [0., 1., 0.],\n",
              "       [0., 1., 0.],\n",
              "       ...,\n",
              "       [1., 0., 0.],\n",
              "       [1., 0., 0.],\n",
              "       [0., 0., 1.]], dtype=float32)"
            ]
          },
          "metadata": {},
          "execution_count": 13
        }
      ]
    },
    {
      "cell_type": "code",
      "source": [
        "tokenizer = Tokenizer(num_words=20000)"
      ],
      "metadata": {
        "execution": {
          "iopub.status.busy": "2023-12-14T10:23:39.362492Z",
          "iopub.execute_input": "2023-12-14T10:23:39.362895Z",
          "iopub.status.idle": "2023-12-14T10:23:39.368323Z",
          "shell.execute_reply.started": "2023-12-14T10:23:39.362865Z",
          "shell.execute_reply": "2023-12-14T10:23:39.367182Z"
        },
        "trusted": true,
        "id": "8pvkIU2c9EC8"
      },
      "execution_count": 14,
      "outputs": []
    },
    {
      "cell_type": "code",
      "source": [
        "tokenizer.fit_on_texts(x_train)\n",
        "tokenizer.fit_on_texts(x_test)"
      ],
      "metadata": {
        "execution": {
          "iopub.status.busy": "2023-12-14T10:23:41.917313Z",
          "iopub.execute_input": "2023-12-14T10:23:41.917717Z",
          "iopub.status.idle": "2023-12-14T10:23:42.697625Z",
          "shell.execute_reply.started": "2023-12-14T10:23:41.917684Z",
          "shell.execute_reply": "2023-12-14T10:23:42.69618Z"
        },
        "trusted": true,
        "id": "JYgcMioz9EC8"
      },
      "execution_count": 15,
      "outputs": []
    },
    {
      "cell_type": "code",
      "source": [
        "len(tokenizer.word_index)"
      ],
      "metadata": {
        "execution": {
          "iopub.status.busy": "2023-12-14T10:23:44.370368Z",
          "iopub.execute_input": "2023-12-14T10:23:44.370738Z",
          "iopub.status.idle": "2023-12-14T10:23:44.377639Z",
          "shell.execute_reply.started": "2023-12-14T10:23:44.370709Z",
          "shell.execute_reply": "2023-12-14T10:23:44.376469Z"
        },
        "trusted": true,
        "id": "HWgMAQUV9EC8",
        "outputId": "107a357f-a9f0-4a8b-a1fe-221c9cd99e10",
        "colab": {
          "base_uri": "https://localhost:8080/"
        }
      },
      "execution_count": 16,
      "outputs": [
        {
          "output_type": "execute_result",
          "data": {
            "text/plain": [
              "28614"
            ]
          },
          "metadata": {},
          "execution_count": 16
        }
      ]
    },
    {
      "cell_type": "code",
      "source": [
        "x_train = tokenizer.texts_to_sequences(x_train)\n",
        "x_test = tokenizer.texts_to_sequences(x_test)"
      ],
      "metadata": {
        "execution": {
          "iopub.status.busy": "2023-12-14T10:23:46.849098Z",
          "iopub.execute_input": "2023-12-14T10:23:46.849529Z",
          "iopub.status.idle": "2023-12-14T10:23:47.380038Z",
          "shell.execute_reply.started": "2023-12-14T10:23:46.849494Z",
          "shell.execute_reply": "2023-12-14T10:23:47.378827Z"
        },
        "trusted": true,
        "id": "9gwFhZ-m9EC9"
      },
      "execution_count": 17,
      "outputs": []
    },
    {
      "cell_type": "code",
      "source": [
        "from keras.utils import pad_sequences\n",
        "x_train = pad_sequences(x_train, padding='post', maxlen=35)  # Set maxlen to 35\n",
        "x_test = pad_sequences(x_test, padding='post', maxlen=35)"
      ],
      "metadata": {
        "execution": {
          "iopub.status.busy": "2023-12-14T10:24:49.475223Z",
          "iopub.execute_input": "2023-12-14T10:24:49.475632Z",
          "iopub.status.idle": "2023-12-14T10:24:49.574314Z",
          "shell.execute_reply.started": "2023-12-14T10:24:49.475602Z",
          "shell.execute_reply": "2023-12-14T10:24:49.573218Z"
        },
        "trusted": true,
        "id": "Y_0wYqCz9EC9"
      },
      "execution_count": 18,
      "outputs": []
    },
    {
      "cell_type": "code",
      "source": [
        "x_train[0]"
      ],
      "metadata": {
        "execution": {
          "iopub.status.busy": "2023-12-14T10:25:06.471757Z",
          "iopub.execute_input": "2023-12-14T10:25:06.472161Z",
          "iopub.status.idle": "2023-12-14T10:25:06.479813Z",
          "shell.execute_reply.started": "2023-12-14T10:25:06.472129Z",
          "shell.execute_reply": "2023-12-14T10:25:06.478714Z"
        },
        "trusted": true,
        "id": "05f0mjpO9EC9",
        "outputId": "38a507d7-704c-428a-a846-4193ab01b512",
        "colab": {
          "base_uri": "https://localhost:8080/"
        }
      },
      "execution_count": 19,
      "outputs": [
        {
          "output_type": "execute_result",
          "data": {
            "text/plain": [
              "array([   1,  162,   19, 7713,   71,    1,  151,   49,    0,    0,    0,\n",
              "          0,    0,    0,    0,    0,    0,    0,    0,    0,    0,    0,\n",
              "          0,    0,    0,    0,    0,    0,    0,    0,    0,    0,    0,\n",
              "          0,    0], dtype=int32)"
            ]
          },
          "metadata": {},
          "execution_count": 19
        }
      ]
    },
    {
      "cell_type": "code",
      "source": [
        "x_train.shape"
      ],
      "metadata": {
        "execution": {
          "iopub.status.busy": "2023-12-14T10:26:26.716396Z",
          "iopub.execute_input": "2023-12-14T10:26:26.716795Z",
          "iopub.status.idle": "2023-12-14T10:26:26.724145Z",
          "shell.execute_reply.started": "2023-12-14T10:26:26.716765Z",
          "shell.execute_reply": "2023-12-14T10:26:26.722883Z"
        },
        "trusted": true,
        "id": "gCfsX7dD9EC9",
        "outputId": "6bb41074-d159-4c09-f7d4-ee0ca7007733",
        "colab": {
          "base_uri": "https://localhost:8080/"
        }
      },
      "execution_count": 20,
      "outputs": [
        {
          "output_type": "execute_result",
          "data": {
            "text/plain": [
              "(27481, 35)"
            ]
          },
          "metadata": {},
          "execution_count": 20
        }
      ]
    },
    {
      "cell_type": "code",
      "source": [
        "model = Sequential()\n",
        "model.add(Embedding(input_dim=20000, output_dim=5, input_length=35))\n",
        "model.add(SimpleRNN(32,return_sequences=False))\n",
        "model.add(Dense(3,activation='softmax'))\n",
        "model.summary()"
      ],
      "metadata": {
        "execution": {
          "iopub.status.busy": "2023-12-14T10:26:28.334474Z",
          "iopub.execute_input": "2023-12-14T10:26:28.33484Z",
          "iopub.status.idle": "2023-12-14T10:26:28.452571Z",
          "shell.execute_reply.started": "2023-12-14T10:26:28.33481Z",
          "shell.execute_reply": "2023-12-14T10:26:28.451325Z"
        },
        "trusted": true,
        "id": "xapyJVdE9EC-",
        "outputId": "bbb32c2c-324e-40ab-c393-f72da1d1a195",
        "colab": {
          "base_uri": "https://localhost:8080/"
        }
      },
      "execution_count": 21,
      "outputs": [
        {
          "output_type": "stream",
          "name": "stdout",
          "text": [
            "Model: \"sequential\"\n",
            "_________________________________________________________________\n",
            " Layer (type)                Output Shape              Param #   \n",
            "=================================================================\n",
            " embedding (Embedding)       (None, 35, 5)             100000    \n",
            "                                                                 \n",
            " simple_rnn (SimpleRNN)      (None, 32)                1216      \n",
            "                                                                 \n",
            " dense (Dense)               (None, 3)                 99        \n",
            "                                                                 \n",
            "=================================================================\n",
            "Total params: 101315 (395.76 KB)\n",
            "Trainable params: 101315 (395.76 KB)\n",
            "Non-trainable params: 0 (0.00 Byte)\n",
            "_________________________________________________________________\n"
          ]
        }
      ]
    },
    {
      "cell_type": "code",
      "source": [
        "model.compile(optimizer='adam', loss='categorical_crossentropy', metrics=['accuracy'])"
      ],
      "metadata": {
        "execution": {
          "iopub.status.busy": "2023-12-14T10:27:43.771158Z",
          "iopub.execute_input": "2023-12-14T10:27:43.771566Z",
          "iopub.status.idle": "2023-12-14T10:27:43.784912Z",
          "shell.execute_reply.started": "2023-12-14T10:27:43.771536Z",
          "shell.execute_reply": "2023-12-14T10:27:43.783926Z"
        },
        "trusted": true,
        "id": "MbOp3dgE9EC-"
      },
      "execution_count": 22,
      "outputs": []
    },
    {
      "cell_type": "code",
      "source": [
        "history = model.fit(x_train, y_train, epochs=10, validation_data=(x_test, y_test))"
      ],
      "metadata": {
        "execution": {
          "iopub.status.busy": "2023-12-14T10:27:45.426623Z",
          "iopub.execute_input": "2023-12-14T10:27:45.427333Z",
          "iopub.status.idle": "2023-12-14T10:30:08.660072Z",
          "shell.execute_reply.started": "2023-12-14T10:27:45.427298Z",
          "shell.execute_reply": "2023-12-14T10:30:08.658922Z"
        },
        "trusted": true,
        "id": "kYLq2GxI9EC-",
        "outputId": "48d265c4-92f2-481c-e10c-b1f390e62dd3",
        "colab": {
          "base_uri": "https://localhost:8080/"
        }
      },
      "execution_count": 23,
      "outputs": [
        {
          "output_type": "stream",
          "name": "stdout",
          "text": [
            "Epoch 1/10\n",
            "859/859 [==============================] - 12s 12ms/step - loss: 0.9408 - accuracy: 0.5346 - val_loss: 0.7731 - val_accuracy: 0.7178\n",
            "Epoch 2/10\n",
            "859/859 [==============================] - 10s 12ms/step - loss: 0.7345 - accuracy: 0.6835 - val_loss: 0.6600 - val_accuracy: 0.7547\n",
            "Epoch 3/10\n",
            "859/859 [==============================] - 9s 11ms/step - loss: 0.6000 - accuracy: 0.7594 - val_loss: 0.6229 - val_accuracy: 0.7514\n",
            "Epoch 4/10\n",
            "859/859 [==============================] - 10s 12ms/step - loss: 0.5009 - accuracy: 0.8097 - val_loss: 0.6525 - val_accuracy: 0.7553\n",
            "Epoch 5/10\n",
            "859/859 [==============================] - 10s 12ms/step - loss: 0.4293 - accuracy: 0.8443 - val_loss: 0.6604 - val_accuracy: 0.7452\n",
            "Epoch 6/10\n",
            "859/859 [==============================] - 10s 12ms/step - loss: 0.3641 - accuracy: 0.8723 - val_loss: 0.7749 - val_accuracy: 0.7394\n",
            "Epoch 7/10\n",
            "859/859 [==============================] - 9s 10ms/step - loss: 0.3152 - accuracy: 0.8917 - val_loss: 0.7534 - val_accuracy: 0.7375\n",
            "Epoch 8/10\n",
            "859/859 [==============================] - 10s 11ms/step - loss: 0.2879 - accuracy: 0.9012 - val_loss: 0.8014 - val_accuracy: 0.7225\n",
            "Epoch 9/10\n",
            "859/859 [==============================] - 11s 12ms/step - loss: 0.2613 - accuracy: 0.9129 - val_loss: 0.7729 - val_accuracy: 0.7263\n",
            "Epoch 10/10\n",
            "859/859 [==============================] - 10s 12ms/step - loss: 0.2350 - accuracy: 0.9218 - val_loss: 0.8883 - val_accuracy: 0.7254\n"
          ]
        }
      ]
    },
    {
      "cell_type": "code",
      "source": [
        "import matplotlib.pyplot as plt\n",
        "plt.plot(history.history['accuracy'])\n",
        "plt.plot(history.history['val_accuracy'])\n",
        "plt.show()"
      ],
      "metadata": {
        "execution": {
          "iopub.status.busy": "2023-12-14T10:30:08.662646Z",
          "iopub.execute_input": "2023-12-14T10:30:08.663096Z",
          "iopub.status.idle": "2023-12-14T10:30:08.870441Z",
          "shell.execute_reply.started": "2023-12-14T10:30:08.663052Z",
          "shell.execute_reply": "2023-12-14T10:30:08.869137Z"
        },
        "trusted": true,
        "id": "iM0ycVb59EC-",
        "outputId": "5b730e90-8cee-478b-ecee-7b1ad60838dc",
        "colab": {
          "base_uri": "https://localhost:8080/",
          "height": 430
        }
      },
      "execution_count": 24,
      "outputs": [
        {
          "output_type": "display_data",
          "data": {
            "text/plain": [
              "<Figure size 640x480 with 1 Axes>"
            ],
            "image/png": "[encoded data removed]"
          },
          "metadata": {}
        }
      ]
    },
    {
      "cell_type": "code",
      "source": [
        "# Prediction 1\n",
        "text = \"The movie was bad bad bad, i will not recommend this movie to anyone\"\n",
        "\n",
        "new_text_seq = tokenizer.texts_to_sequences([text])\n",
        "new_text_padded = pad_sequences(new_text_seq, padding='post', maxlen=35)  # Use the max_len determined during training\n",
        "predictions = model.predict(new_text_padded)\n",
        "predicted_class_index = predictions.argmax(axis=-1)\n",
        "if predicted_class_index[0] == 0:\n",
        "    print(\"Postive Sentiment\");\n",
        "elif predicted_class_index[0] == 1:\n",
        "    print(\"Negative Sentiment\")\n",
        "else:\n",
        "    print(\"Neutral Sentiment\")"
      ],
      "metadata": {
        "execution": {
          "iopub.status.busy": "2023-12-14T10:34:34.939823Z",
          "iopub.execute_input": "2023-12-14T10:34:34.941001Z",
          "iopub.status.idle": "2023-12-14T10:34:35.015111Z",
          "shell.execute_reply.started": "2023-12-14T10:34:34.940964Z",
          "shell.execute_reply": "2023-12-14T10:34:35.013862Z"
        },
        "trusted": true,
        "id": "Q18vbLNs9EC-",
        "outputId": "28843192-b5ef-47c0-c33a-e500f16b9524",
        "colab": {
          "base_uri": "https://localhost:8080/"
        }
      },
      "execution_count": 25,
      "outputs": [
        {
          "output_type": "stream",
          "name": "stdout",
          "text": [
            "1/1 [==============================] - 0s 199ms/step\n",
            "Negative Sentiment\n"
          ]
        }
      ]
    },
    {
      "cell_type": "code",
      "source": [
        "# Prediction 2\n",
        "\n",
        "text = \"The movie was good, i will recommend this movie to anyone\"\n",
        "\n",
        "new_text_seq = tokenizer.texts_to_sequences([text])\n",
        "new_text_padded = pad_sequences(new_text_seq, padding='post', maxlen=35)  # Use the max_len determined during training\n",
        "predictions = model.predict(new_text_padded)\n",
        "predicted_class_index = predictions.argmax(axis=-1)\n",
        "if predicted_class_index[0] == 0:\n",
        "    print(\"Postive Sentiment\");\n",
        "elif predicted_class_index[0] == 1:\n",
        "    print(\"Negative Sentiment\")\n",
        "else:\n",
        "    print(\"Neutral Sentiment\")"
      ],
      "metadata": {
        "execution": {
          "iopub.status.busy": "2023-12-14T10:34:25.79413Z",
          "iopub.execute_input": "2023-12-14T10:34:25.794526Z",
          "iopub.status.idle": "2023-12-14T10:34:25.877423Z",
          "shell.execute_reply.started": "2023-12-14T10:34:25.794488Z",
          "shell.execute_reply": "2023-12-14T10:34:25.876362Z"
        },
        "trusted": true,
        "id": "IRdQX90s9EC_",
        "outputId": "ea30423c-429c-44e0-ebd0-f672a34ce480",
        "colab": {
          "base_uri": "https://localhost:8080/"
        }
      },
      "execution_count": 26,
      "outputs": [
        {
          "output_type": "stream",
          "name": "stdout",
          "text": [
            "1/1 [==============================] - 0s 72ms/step\n",
            "Postive Sentiment\n"
          ]
        }
      ]
    },
    {
      "cell_type": "code",
      "source": [],
      "metadata": {
        "id": "h3IGqWjJ-U2i"
      },
      "execution_count": null,
      "outputs": []
    }
  ]
}